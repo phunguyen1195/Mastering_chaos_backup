{
 "cells": [
  {
   "cell_type": "code",
   "execution_count": 1,
   "id": "2d4ca3d8-d377-4a06-a3b5-9973ad53b2d8",
   "metadata": {},
   "outputs": [],
   "source": [
    "import gymnasium as gym\n",
    "# import Lorenz_envs\n",
    "import matplotlib.pyplot as plt\n",
    "import numpy as np\n",
    "import time\n",
    "import torch\n",
    "import warnings\n",
    "import copy \n",
    "import wandb\n",
    "import le_envs\n",
    "\n",
    "from IPython import display\n",
    "from torch.distributions import MultivariateNormal\n",
    "from torch.optim import Adam\n",
    "from torch.nn import Linear, Module, MSELoss, ReLU, Sequential"
   ]
  },
  {
   "cell_type": "code",
   "execution_count": 2,
   "id": "4440f93a-b648-4cc8-9056-43fab840ce70",
   "metadata": {},
   "outputs": [],
   "source": [
    "from le_envs.wrappers.VectorResetWrapper import VectorResetWrapper"
   ]
  },
  {
   "cell_type": "code",
   "execution_count": 3,
   "id": "6613c8a4-2a7a-46bb-ab2f-4ffa54569291",
   "metadata": {},
   "outputs": [],
   "source": [
    "envs = gym.make_vec(\"le_envs/Lorenz-v0\", num_envs=3)"
   ]
  },
  {
   "cell_type": "code",
   "execution_count": 4,
   "id": "9258ea0d-052f-4051-a96a-3c3fee7a5627",
   "metadata": {},
   "outputs": [],
   "source": [
    "s = envs.reset(seed=42)"
   ]
  },
  {
   "cell_type": "code",
   "execution_count": 5,
   "id": "4ab41aca-91fe-4f6a-a2e3-eb9140642aa0",
   "metadata": {},
   "outputs": [],
   "source": [
    "wrap = VectorResetWrapper(envs)"
   ]
  },
  {
   "cell_type": "code",
   "execution_count": 8,
   "id": "086f62c9-5940-41c3-bde3-4ee26f764ec9",
   "metadata": {},
   "outputs": [
    {
     "data": {
      "text/plain": [
       "(array([[ 32.24378294, -10.10588475,  34.67343771],\n",
       "        [ 32.24389353, -10.10509151,  34.67506917],\n",
       "        [ 32.24374606, -10.10464032,  34.67323772]]),\n",
       " {})"
      ]
     },
     "execution_count": 8,
     "metadata": {},
     "output_type": "execute_result"
    }
   ],
   "source": [
    "wrap.reset()"
   ]
  },
  {
   "cell_type": "code",
   "execution_count": 29,
   "id": "dd2c27cd-09aa-4189-863f-5cfad31a8fcd",
   "metadata": {},
   "outputs": [],
   "source": [
    "s = envs.reset(seed=42)"
   ]
  },
  {
   "cell_type": "code",
   "execution_count": 30,
   "id": "c5e169e7-80dc-4059-a6cb-844f9cbdb8f9",
   "metadata": {},
   "outputs": [
    {
     "data": {
      "text/plain": [
       "(array([[ 23.328024 ,  -4.0062127,  59.592354 ],\n",
       "        [-14.649049 , -34.02899  ,  50.223568 ],\n",
       "        [ -4.4378686, -13.016587 ,   9.42877  ]], dtype=float32),\n",
       " {})"
      ]
     },
     "execution_count": 30,
     "metadata": {},
     "output_type": "execute_result"
    }
   ],
   "source": [
    "np.full((3, 5), 7)"
   ]
  },
  {
   "cell_type": "code",
   "execution_count": 19,
   "id": "c5e6cb21-4ab4-4833-a882-acc8aa5b535e",
   "metadata": {},
   "outputs": [
    {
     "data": {
      "text/plain": [
       "Box(-2.0, 2.0, (3, 3), float32)"
      ]
     },
     "execution_count": 19,
     "metadata": {},
     "output_type": "execute_result"
    }
   ],
   "source": [
    "envs.action_space"
   ]
  },
  {
   "cell_type": "code",
   "execution_count": 20,
   "id": "ddd667c9-0a0c-40f3-a1f4-e7bc2feb981e",
   "metadata": {},
   "outputs": [],
   "source": [
    "actions = np.array([[1,1,1], [0,1,1], [1,1,1]])\n",
    "observations, rewards, termination, truncation, infos = envs.step(actions)"
   ]
  },
  {
   "cell_type": "code",
   "execution_count": 21,
   "id": "14499a5f-fcda-46f5-aae6-c0348ea09bc8",
   "metadata": {},
   "outputs": [
    {
     "data": {
      "text/plain": [
       "array([[ 20.646122 , -10.347049 ,  56.69563  ],\n",
       "       [-16.291643 , -29.706339 ,  54.035065 ],\n",
       "       [ -5.0390987, -13.499615 ,  10.047585 ]], dtype=float32)"
      ]
     },
     "execution_count": 21,
     "metadata": {},
     "output_type": "execute_result"
    }
   ],
   "source": [
    "observations"
   ]
  },
  {
   "cell_type": "code",
   "execution_count": 22,
   "id": "8f1dcb1e-e241-4087-aa49-e66f4aaf65b9",
   "metadata": {},
   "outputs": [
    {
     "data": {
      "text/plain": [
       "array([1, 1, 1])"
      ]
     },
     "execution_count": 22,
     "metadata": {},
     "output_type": "execute_result"
    }
   ],
   "source": [
    "rewards"
   ]
  },
  {
   "cell_type": "code",
   "execution_count": 23,
   "id": "5dad5c93-a28f-46f0-9920-a3d10260223d",
   "metadata": {},
   "outputs": [
    {
     "data": {
      "text/plain": [
       "array([False, False, False])"
      ]
     },
     "execution_count": 23,
     "metadata": {},
     "output_type": "execute_result"
    }
   ],
   "source": [
    "termination"
   ]
  },
  {
   "cell_type": "code",
   "execution_count": null,
   "id": "69b10e1c-3cf4-4869-98cd-379eae683eb6",
   "metadata": {},
   "outputs": [],
   "source": []
  }
 ],
 "metadata": {
  "kernelspec": {
   "display_name": "gen_env",
   "language": "python",
   "name": "gen_env"
  },
  "language_info": {
   "codemirror_mode": {
    "name": "ipython",
    "version": 3
   },
   "file_extension": ".py",
   "mimetype": "text/x-python",
   "name": "python",
   "nbconvert_exporter": "python",
   "pygments_lexer": "ipython3",
   "version": "3.10.8"
  }
 },
 "nbformat": 4,
 "nbformat_minor": 5
}
