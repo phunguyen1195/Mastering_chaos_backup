{
 "cells": [
  {
   "cell_type": "code",
   "execution_count": 44,
   "id": "93269597",
   "metadata": {},
   "outputs": [],
   "source": [
    "import numpy as np\n",
    "from mpl_toolkits.mplot3d import Axes3D\n",
    "import matplotlib.pyplot as plt\n",
    "from fractions import Fraction\n",
    "directory = 'lorenz/'\n",
    "\n",
    "\n",
    "# dyn_lorenz = {\"sigma\":16.0, \"R\":45.92, \"b\": 4.0}\n",
    "dyn_lorenz = {\"sigma\":16.0, \"R\":45.0, \"b\": 4}\n",
    "x0 = np.array([10.0, 1.0, 0.0])\n",
    "v1 = np.array([1.0, 0.0, 0.0])\n",
    "v2 = np.array([0.0, 1.0, 0.0])\n",
    "v3 = np.array([0.0, 0.0, 1.0])\n",
    "x_dot = []\n",
    "x_norm = []\n",
    "le_array = []\n",
    "# cum = np.array([0,0,0])\n",
    "\n",
    "def lorenz (x0, dyn):\n",
    "    sigma = dyn['sigma']\n",
    "    R = dyn['R']\n",
    "    b = dyn['b']\n",
    "    x = x0[0]\n",
    "    y = x0[1]\n",
    "    z = x0[2]\n",
    "    return np.array([sigma * (y - x), \n",
    "                     x * (R - z) - y, \n",
    "                     x * y - b * z])\n",
    "\n",
    "# def linearized_lorenz (x0, dyn, y_lorenz):\n",
    "#     sigma = dyn['sigma']\n",
    "#     R = dyn['R']\n",
    "#     b = dyn['b']\n",
    "#     x = x0[0]\n",
    "#     y = x0[1]\n",
    "#     z = x0[2]\n",
    "#     return np.array([sigma * (y - x), \n",
    "#                      (R - y_lorenz[2])*x - y - y_lorenz[0]*z,\n",
    "#                       y_lorenz[1]*x + y_lorenz[0]*y - b*z])\n",
    "\n",
    "# RungeKutta_linearized(dyn, linearized_f, dt, v1_prime[:, i-1], x[:, i-1])\n",
    "def linearized_lorenz (x0, dyn, y_lorenz):\n",
    "    sigma = dyn['sigma']\n",
    "    R = dyn['R']\n",
    "    b = dyn['b']\n",
    "    x = y_lorenz[0]\n",
    "    y = y_lorenz[1]\n",
    "    z = y_lorenz[2]\n",
    "    pre_dot = np.array([[-sigma, sigma, 0],\n",
    "                        [R-z, -1, -x],\n",
    "                        [y,x,-b]\n",
    "                        ])\n",
    "    af_dot = np.dot(pre_dot, x0)\n",
    "    return af_dot\n",
    "\n",
    "\n",
    "def RungeKutta (dyn, f, dt, x0):\n",
    "    k1 = f(x0, dyn) #[x,y,z]*0.1 example\n",
    "    k2 = f(x0 + 0.5*k1*dt,dyn)\n",
    "    k3 = f(x0 + 0.5*k2*dt, dyn)\n",
    "    k4 = f(x0 + k3*dt, dyn)\n",
    "    \n",
    "    x = x0 + ((k1 + 2*k2 + 2*k3 + k4)/6) *dt\n",
    "    return x\n",
    "\n",
    "\n",
    "def RungeKutta_linearized (dyn, f, dt, x0, y):\n",
    "    k1 = f(x0, dyn,y) #[x,y,z]*0.1 example\n",
    "    k2 = f(x0 + 0.5*k1*dt,dyn,y) \n",
    "    k3 = f(x0 + 0.5*k2*dt, dyn,y) \n",
    "    k4 = f(x0 + k3*dt, dyn,y) \n",
    "    \n",
    "    x = x0 + ((k1 + 2*k2 + 2*k3 + k4)/6) * dt\n",
    "\n",
    "    return x\n",
    "\n",
    "def f_t (dyn, f, linearized_f, dt, x0, T):\n",
    "    x = np.empty(shape=(len(x0),T))\n",
    "    v1_prime = np.empty(shape=(len(x0),T))\n",
    "    v2_prime = np.empty(shape=(len(x0),T))\n",
    "    v3_prime = np.empty(shape=(len(x0),T))\n",
    "    x[:, 0] = x0\n",
    "    v1_prime[:, 0] = v1\n",
    "    v2_prime[:, 0] = v2\n",
    "    v3_prime[:, 0] = v3\n",
    "    cum = np.array([0,0,0])\n",
    "    for i in range(1,T):\n",
    "        x[:, i] = RungeKutta(dyn, f, dt, x[:, i-1])\n",
    "        \n",
    "        v1_prime[:, i] = RungeKutta_linearized(dyn, linearized_f, dt, v1_prime[:, i-1], x[:, i-1])\n",
    "        v2_prime[:, i] = RungeKutta_linearized(dyn, linearized_f, dt, v2_prime[:, i-1], x[:, i-1])\n",
    "        v3_prime[:, i] = RungeKutta_linearized(dyn, linearized_f, dt, v3_prime[:, i-1], x[:, i-1])\n",
    "        \n",
    "        \n",
    "        norm1 = np.linalg.norm(v1_prime[:, i])\n",
    "        v1_prime[:, i] = v1_prime[:, i]/norm1\n",
    "        \n",
    "        GSC1 = np.dot(v1_prime[:, i], v2_prime[:, i])\n",
    "        v2_prime[:, i] = v2_prime[:, i] - GSC1*v1_prime[:, i]\n",
    "        \n",
    "        norm2 = np.linalg.norm(v2_prime[:, i])\n",
    "        v2_prime[:, i] = v2_prime[:, i]/norm2\n",
    "        \n",
    "        GSC2 = np.dot(v3_prime[:, i], v1_prime[:, i])\n",
    "        GSC3 = np.dot(v3_prime[:, i], v2_prime[:, i])\n",
    "        \n",
    "        v3_prime[:, i] = v3_prime[:, i] - GSC2*v1_prime[:, i] - GSC3*v2_prime[:, i]\n",
    "        norm3 = np.linalg.norm(v3_prime[:, i])\n",
    "        v3_prime[:, i] = v3_prime[:, i]/norm3\n",
    "        \n",
    "        cum = cum + np.log2(np.array([norm1,norm2,norm3]))\n",
    "        le_array.append(cum/(i*dt))\n",
    "#         if ( i % 100 == 0 ):\n",
    "#             print ('log2:', np.log2(np.array([norm1,norm2,norm3]))/(i*dt))\n",
    "#             print ('cum:', cum/(i*dt))\n",
    "        \n",
    "        \n",
    "    return x, cum/(T*dt)\n",
    "\n"
   ]
  },
  {
   "cell_type": "code",
   "execution_count": 94,
   "id": "79353cb0",
   "metadata": {},
   "outputs": [],
   "source": [
    "v, cum = f_t(dyn_lorenz, lorenz, linearized_lorenz, 0.001, np.array([  10, 10, 10]), 100)"
   ]
  },
  {
   "cell_type": "code",
   "execution_count": 91,
   "id": "a4cecc97",
   "metadata": {},
   "outputs": [
    {
     "data": {
      "text/plain": [
       "array([  5.90861827, -17.639022  , -18.26322597])"
      ]
     },
     "execution_count": 91,
     "metadata": {},
     "output_type": "execute_result"
    }
   ],
   "source": [
    "cum"
   ]
  },
  {
   "cell_type": "code",
   "execution_count": 93,
   "id": "e17a9ebf",
   "metadata": {},
   "outputs": [
    {
     "data": {
      "text/plain": [
       "array([ 25.88234361, -50.1629004 ,  -5.71307236])"
      ]
     },
     "execution_count": 93,
     "metadata": {},
     "output_type": "execute_result"
    }
   ],
   "source": [
    "cum"
   ]
  },
  {
   "cell_type": "code",
   "execution_count": 95,
   "id": "b1efe3b1",
   "metadata": {},
   "outputs": [
    {
     "data": {
      "text/plain": [
       "array([ 14.57997233, -21.93467829, -22.63892362])"
      ]
     },
     "execution_count": 95,
     "metadata": {},
     "output_type": "execute_result"
    }
   ],
   "source": [
    "cum"
   ]
  },
  {
   "cell_type": "code",
   "execution_count": null,
   "id": "3aaef6dd",
   "metadata": {},
   "outputs": [],
   "source": []
  }
 ],
 "metadata": {
  "kernelspec": {
   "display_name": "gen_env",
   "language": "python",
   "name": "gen_env"
  },
  "language_info": {
   "codemirror_mode": {
    "name": "ipython",
    "version": 3
   },
   "file_extension": ".py",
   "mimetype": "text/x-python",
   "name": "python",
   "nbconvert_exporter": "python",
   "pygments_lexer": "ipython3",
   "version": "3.10.8"
  }
 },
 "nbformat": 4,
 "nbformat_minor": 5
}
