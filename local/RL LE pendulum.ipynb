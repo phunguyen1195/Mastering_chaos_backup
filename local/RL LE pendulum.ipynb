{
 "cells": [
  {
   "cell_type": "code",
   "execution_count": 22,
   "id": "dd13b5b3",
   "metadata": {},
   "outputs": [],
   "source": [
    "import numpy as np\n",
    "from mpl_toolkits.mplot3d import Axes3D\n",
    "import matplotlib.pyplot as plt\n",
    "from fractions import Fraction\n",
    "import time\n",
    "import sys\n",
    "\n",
    "dyn_pendulum = {\"g\":9.81, \"m\": 1.0, \"l\": 1.0}\n",
    "x0 = np.array([np.pi-0.1, 0.0])\n",
    "v1 = np.array([1.0, 0.0])\n",
    "v2 = np.array([0.0, 1.0])\n",
    "x_dot = []\n",
    "x_norm = []\n",
    "# cum = np.array([0,0,0])\n",
    "\n",
    "# def cosin \n",
    "\n",
    "def simple_pendulum (x0, dyn):\n",
    "    g = dyn['g'] \n",
    "    l = dyn['l']\n",
    "    #print (x0)\n",
    "    return np.array([x0[1], (-g/l)*np.sin(x0[0])])\n",
    "\n",
    "\n",
    "def RungeKutta (dyn, f, dt, x0):\n",
    "    k1 = f(x0, dyn) #[x,y,z]*0.1 example\n",
    "    k2 = f(x0+0.5*k1*dt,dyn)\n",
    "    k3 = f(x0 + 0.5*k2*dt, dyn)\n",
    "    k4 = f(x0 + k3*dt, dyn)\n",
    "    \n",
    "    x = x0 + ((k1 + 2*k2 + 2*k3 + k4)/6) *dt\n",
    "    return x\n",
    "\n",
    "def f_t (dyn, f, dt, x0, T):\n",
    "    x = np.empty(shape=(len(x0),T))\n",
    "    #print(x.shape)\n",
    "    x[:, 0] = x0\n",
    "    # print ('x:', x)\n",
    "    # print ('x[:, 0]:', x[:, 0])\n",
    "    # print ('x0:', x0)\n",
    "    for i in range(1,T):\n",
    "        x[:, i] = RungeKutta(dyn, f, dt, x[:, i-1])\n",
    "    return x\n"
   ]
  },
  {
   "cell_type": "code",
   "execution_count": 5,
   "id": "1c3e3e42",
   "metadata": {},
   "outputs": [],
   "source": [
    "epsilon = 0.1\n",
    "x_c = f_t(dyn_pendulum, simple_pendulum, 0.001, np.array([ 3.4, -0.8]), 800)\n",
    "x_c = x_c.T\n",
    "x_1 = f_t(dyn_pendulum, simple_pendulum, 0.001, np.array([ 3.4+epsilon, -0.8+epsilon]), 800)\n",
    "x_1 = x_1.T\n",
    "x_2 = f_t(dyn_pendulum, simple_pendulum, 0.001, np.array([ 3.4-epsilon, -0.8-epsilon]), 800)\n",
    "x_2 = x_2.T"
   ]
  },
  {
   "cell_type": "code",
   "execution_count": 12,
   "id": "76a83b78",
   "metadata": {},
   "outputs": [],
   "source": [
    "epsilon = 0.1\n",
    "x_c = f_t(dyn_pendulum, simple_pendulum, 0.001, np.array([ 3.1, 0.1]), 1000)\n",
    "x_c = x_c.T\n",
    "x_1 = f_t(dyn_pendulum, simple_pendulum, 0.001, np.array([ 3.1+epsilon, 0.1+epsilon]), 1000)\n",
    "x_1 = x_1.T\n",
    "x_2 = f_t(dyn_pendulum, simple_pendulum, 0.001, np.array([ 3.1-epsilon, 0.1-epsilon]), 1000)\n",
    "x_2 = x_2.T"
   ]
  },
  {
   "cell_type": "code",
   "execution_count": 20,
   "id": "4c0e767a",
   "metadata": {},
   "outputs": [],
   "source": [
    "epsilon = 0.1\n",
    "x_c = f_t(dyn_pendulum, simple_pendulum, 0.001, np.array([ np.pi, 0]), 1000)\n",
    "x_c = x_c.T\n",
    "x_1 = f_t(dyn_pendulum, simple_pendulum, 0.001, np.array([ np.pi+epsilon, 0+epsilon]), 1000)\n",
    "x_1 = x_1.T\n",
    "x_2 = f_t(dyn_pendulum, simple_pendulum, 0.001, np.array([ np.pi-epsilon, 0-epsilon]), 1000)\n",
    "x_2 = x_2.T"
   ]
  },
  {
   "cell_type": "code",
   "execution_count": 21,
   "id": "3f0e6b48",
   "metadata": {},
   "outputs": [
    {
     "name": "stdout",
     "output_type": "stream",
     "text": [
      "-3.430053735743039\n"
     ]
    }
   ],
   "source": [
    "le_ep = []\n",
    "for i in range(len(x_c)):\n",
    "    if (i + 1 < len(x_c)):\n",
    "        nu = np.max([np.linalg.norm(x_c[i]-x_1[i]),np.linalg.norm(x_c[i]-x_2[i])])\n",
    "        de = np.max([np.linalg.norm(x_c[i+1]-x_1[i+1]),np.linalg.norm(x_c[i+1]-x_2[i+1])])\n",
    "        le_ep.append(np.log(nu/de))\n",
    "    else:\n",
    "        break\n",
    "print (sum(le_ep))"
   ]
  },
  {
   "cell_type": "code",
   "execution_count": 4,
   "id": "a540c0b7",
   "metadata": {},
   "outputs": [],
   "source": [
    "from scipy.spatial import ConvexHull, convex_hull_plot_2d\n",
    "\n",
    "import numpy as np\n",
    "\n",
    "rng = np.random.default_rng()\n",
    "\n",
    "points = rng.random((30, 3))   # 30 random points in 2-D\n",
    "\n",
    "hull = ConvexHull(points)"
   ]
  },
  {
   "cell_type": "code",
   "execution_count": 7,
   "id": "87f24ae6",
   "metadata": {},
   "outputs": [
    {
     "data": {
      "text/plain": [
       "0.4767606128825497"
      ]
     },
     "execution_count": 7,
     "metadata": {},
     "output_type": "execute_result"
    }
   ],
   "source": [
    "hull.volume"
   ]
  },
  {
   "cell_type": "code",
   "execution_count": null,
   "id": "1f1ec440",
   "metadata": {},
   "outputs": [],
   "source": [
    "# start with lorenz\n",
    "# convex hull, cal max volumn"
   ]
  }
 ],
 "metadata": {
  "kernelspec": {
   "display_name": "gen_env",
   "language": "python",
   "name": "gen_env"
  },
  "language_info": {
   "codemirror_mode": {
    "name": "ipython",
    "version": 3
   },
   "file_extension": ".py",
   "mimetype": "text/x-python",
   "name": "python",
   "nbconvert_exporter": "python",
   "pygments_lexer": "ipython3",
   "version": "3.10.8"
  }
 },
 "nbformat": 4,
 "nbformat_minor": 5
}
