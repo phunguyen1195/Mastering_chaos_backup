{
 "cells": [
  {
   "cell_type": "code",
   "execution_count": 8,
   "id": "d953638b",
   "metadata": {},
   "outputs": [],
   "source": [
    "import re"
   ]
  },
  {
   "cell_type": "code",
   "execution_count": 130,
   "id": "139147e9",
   "metadata": {},
   "outputs": [],
   "source": [
    "s = \"((1.25 + 0.5cos(x[3]))*(-sin(x[3])*x[2] - sin(x[3])*x[4])) / ((1.25 + (-((1.25 + 0.5cos(x[3]))^2)) / (3.5 + cos(x[3])))*(3.5 + cos(x[3])))\"\n",
    "\n",
    "s = s.replace('x', 'x0')\n",
    "s = s.replace('cos','np.cos')\n",
    "s = s.replace('sin', 'np.sin')\n",
    "s = s.replace('^','**')\n",
    "x = re.sub(r\"([-+]?[0-9]*\\.[0-9]+)np.\", r'\\1*np.', s)\n",
    "x = re.sub(r\"([-+]?[0-9]*\\.[0-9]+)\\(\", r'\\1*(', x)\n",
    "x = re.sub(r\"\\[([0-9])\\]\", lambda x: \"[\"+str(int(x.group(1))-1)+\"]\", x)"
   ]
  },
  {
   "cell_type": "code",
   "execution_count": 131,
   "id": "8550339a",
   "metadata": {},
   "outputs": [
    {
     "data": {
      "text/plain": [
       "'((1.25 + 0.5*np.cos(x0[2]))*(-np.sin(x0[2])*x0[1] - np.sin(x0[2])*x0[3])) / ((1.25 + (-((1.25 + 0.5*np.cos(x0[2]))**2)) / (3.5 + np.cos(x0[2])))*(3.5 + np.cos(x0[2])))'"
      ]
     },
     "execution_count": 131,
     "metadata": {},
     "output_type": "execute_result"
    }
   ],
   "source": [
    "x"
   ]
  },
  {
   "cell_type": "code",
   "execution_count": 91,
   "id": "4fd24139",
   "metadata": {},
   "outputs": [
    {
     "data": {
      "text/plain": [
       "'((-(1.25 + 0.5np.cos(x0[2]))*(((1.25 + 0.5np.cos(x0[2]))*(4.9np.cos(x0[0] + x0[2]) + 14.700000000000001np.cos(x0[0]) - 0.5(x0[3]**2)*np.sin(x0[2]) - np.sin(x0[2])*x0[1]*x0[3])) / (3.5 + np.cos(x0[2])) - 4.9np.cos(x0[0] + x0[2]) - 0.5(x0[1]**2)*np.sin(x0[2]))) / (1.25 + (-((1.25 + 0.5np.cos(x0[2]))**2)) / (3.5 + np.cos(x0[2]))) + 0.5(x0[3]**2)*np.sin(x0[2]) + np.sin(x0[2])*x0[1]*x0[3] - 4.9np.cos(x0[0] + x0[2]) - 14.700000000000001np.cos(x0[0])) / (3.5 + np.cos(x0[2]))'"
      ]
     },
     "execution_count": 91,
     "metadata": {},
     "output_type": "execute_result"
    }
   ],
   "source": [
    "x"
   ]
  },
  {
   "cell_type": "code",
   "execution_count": 78,
   "id": "12bfece7",
   "metadata": {},
   "outputs": [
    {
     "data": {
      "text/plain": [
       "'((-(1.25 + 0.5np.cos(x0[3]))*(((1.25 + 0.5np.cos(x0[3]))*(4.9np.cos(x0[1] + x0[3]) + 14.700000000000001np.cos(x0[1]) - 0.5(x0[4]**2)*np.sin(x0[3]) - np.sin(x0[3])*x0[2]*x0[4])) / (3.5 + np.cos(x0[3])) - 4.9np.cos(x0[1] + x0[3]) - 0.5(x0[2]**2)*np.sin(x0[3]))) / (1.25 + (-((1.25 + 0.5np.cos(x0[3]))**2)) / (3.5 + np.cos(x0[3]))) + 0.5(x0[4]**2)*np.sin(x0[3]) + np.sin(x0[3])*x0[2]*x0[4] - 4.9np.cos(x0[1] + x0[3]) - 14.700000000000001np.cos(x0[1])) / (3.5 + np.cos(x0[3]))'"
      ]
     },
     "execution_count": 78,
     "metadata": {},
     "output_type": "execute_result"
    }
   ],
   "source": [
    "x"
   ]
  },
  {
   "cell_type": "code",
   "execution_count": 45,
   "id": "2f8797f0",
   "metadata": {},
   "outputs": [],
   "source": [
    "s = \"((1.25 + 0.5*np.cos(x[2]))*(-np.sin(x[2])*x[1] - np.sin(x[2])*x[3])) / ((1.25 + (-((1.25 + 0.5*np.cos(x[2]))^2)) / (3.5 + np.cos(x[2])))*(3.5 + np.cos(x[2])))\"\n",
    "\n",
    "s = s.replace('x', 'x0')\n",
    "# s = s.replace('cos','np.cos')\n",
    "# s = s.replace('sin', 'np.sin')\n",
    "s = s.replace('^','**')\n",
    "# x = re.sub(r\"([-+]?[0-9]*\\.[0-9]+)np.\", r'\\1*np.', s)\n",
    "x = re.sub(r\"([-+]?[0-9]*\\.[0-9]+)\\(\", r'\\1*(', s)\n"
   ]
  },
  {
   "cell_type": "code",
   "execution_count": 46,
   "id": "b76095d8",
   "metadata": {},
   "outputs": [
    {
     "data": {
      "text/plain": [
       "'((1.25 + 0.5*np.cos(x0[2]))*(-np.sin(x0[2])*x0[1] - np.sin(x0[2])*x0[3])) / ((1.25 + (-((1.25 + 0.5*np.cos(x0[2]))**2)) / (3.5 + np.cos(x0[2])))*(3.5 + np.cos(x0[2])))'"
      ]
     },
     "execution_count": 46,
     "metadata": {},
     "output_type": "execute_result"
    }
   ],
   "source": [
    "x"
   ]
  },
  {
   "cell_type": "code",
   "execution_count": null,
   "id": "7ef14e5e",
   "metadata": {},
   "outputs": [],
   "source": []
  }
 ],
 "metadata": {
  "kernelspec": {
   "display_name": "gen_env",
   "language": "python",
   "name": "gen_env"
  },
  "language_info": {
   "codemirror_mode": {
    "name": "ipython",
    "version": 3
   },
   "file_extension": ".py",
   "mimetype": "text/x-python",
   "name": "python",
   "nbconvert_exporter": "python",
   "pygments_lexer": "ipython3",
   "version": "3.10.8"
  }
 },
 "nbformat": 4,
 "nbformat_minor": 5
}
