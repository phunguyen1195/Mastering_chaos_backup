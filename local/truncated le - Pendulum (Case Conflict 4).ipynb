{
 "cells": [
  {
   "cell_type": "code",
   "execution_count": 15,
   "id": "8331ca76",
   "metadata": {},
   "outputs": [],
   "source": [
    "import numpy as np\n",
    "from mpl_toolkits.mplot3d import Axes3D\n",
    "import matplotlib.pyplot as plt\n",
    "from fractions import Fraction\n",
    "\n",
    "\n",
    "# dyn_lorenz = {\"sigma\":16.0, \"R\":45.92, \"b\": 4.0}\n",
    "dyn_pendulum = {\"g\":9.81, \"m\": 1.0, \"l\": 1.0}\n",
    "x0 = np.array([0.1, 0.0])\n",
    "v1 = np.array([1.0, 0.0])\n",
    "v2 = np.array([0.0, 1.0])\n",
    "x_dot = []\n",
    "x_norm = []\n",
    "# cum = np.array([0,0,0])\n",
    "\n",
    "def pendulum (x0, dyn):\n",
    "    g = dyn['g'] \n",
    "    l = dyn['l']\n",
    "    #print (x0)\n",
    "    return np.array([x0[1], np.sin(x0[0])])\n",
    "\n",
    "\n",
    "def linearized_pendulum (x0, dyn, y_pendulum):\n",
    "    g = dyn['g'] \n",
    "    l = dyn['l']\n",
    "    #print (x0)\n",
    "    x = y_pendulum[0]\n",
    "    y = y_pendulum[1]\n",
    "    pre_dot = np.array([[0, 1],\n",
    "                    [np.cos(x), 0],\n",
    "                    ])\n",
    "    af_dot = np.dot(pre_dot, x0)\n",
    "    return af_dot\n",
    "\n",
    "\n",
    "def RungeKutta (dyn, f, dt, x0):\n",
    "    k1 = f(x0, dyn) #[x,y,z]*0.1 example\n",
    "    k2 = f(x0+0.5*k1*dt,dyn)\n",
    "    k3 = f(x0 + 0.5*k2*dt, dyn)\n",
    "    k4 = f(x0 + k3*dt, dyn)\n",
    "    \n",
    "    x = x0 + ((k1 + 2*k2 + 2*k3 + k4)/6) *dt\n",
    "    return x\n",
    "\n",
    "def RungeKutta_linearized (dyn, f, dt, x0, y):\n",
    "    k1 = f(x0, dyn, y) #[x,y,z]*0.1 example\n",
    "    k2 = f(x0+0.5*k1*dt,dyn, y)\n",
    "    k3 = f(x0 + 0.5*k2*dt, dyn, y)\n",
    "    k4 = f(x0 + k3*dt, dyn, y)\n",
    "    \n",
    "    x = x0 + ((k1 + 2*k2 + 2*k3 + k4)/6) * dt\n",
    "\n",
    "    return x\n",
    "\n",
    "def f_t (dyn, f, linearized_f, dt, x0, T):\n",
    "    x = np.empty(shape=(len(x0),T))\n",
    "    v1_prime = np.empty(shape=(len(x0),T))\n",
    "    v2_prime = np.empty(shape=(len(x0),T))\n",
    "    x[:, 0] = x0\n",
    "    v1_prime[:, 0] = v1\n",
    "    v2_prime[:, 0] = v2\n",
    "    cum = np.array([0,0])\n",
    "    \n",
    "    for i in range(1,T):\n",
    "        x[:, i] = RungeKutta(dyn, f, dt, x[:, i-1])\n",
    "        \n",
    "        v1_prime[:, i] = RungeKutta_linearized(dyn, linearized_f, dt, v1_prime[:, i-1], x[:, i-1])\n",
    "        v2_prime[:, i] = RungeKutta_linearized(dyn, linearized_f, dt, v2_prime[:, i-1], x[:, i-1])\n",
    "        \n",
    "        norm1 = np.linalg.norm(v1_prime[:, i])\n",
    "        v1_prime[:, i] = v1_prime[:, i]/norm1\n",
    "        \n",
    "        GSC1 = np.dot(v1_prime[:, i], v2_prime[:, i])\n",
    "        v2_prime[:, i] = v2_prime[:, i] - GSC1*v1_prime[:, i]\n",
    "        \n",
    "        norm2 = np.linalg.norm(v2_prime[:, i])\n",
    "        v2_prime[:, i] = v2_prime[:, i]/norm2\n",
    "        \n",
    "\n",
    "        cum = cum + np.log2(np.array([norm1,norm2]))\n",
    "#         print(\"total time taken this loop: \", end_time - start_time)\n",
    "    cum = cum/(T*dt)\n",
    "    return cum\n"
   ]
  },
  {
   "cell_type": "code",
   "execution_count": 16,
   "id": "6efdf60a",
   "metadata": {},
   "outputs": [],
   "source": [
    "v, cum = f_t(dyn_pendulum, pendulum, linearized_pendulum, 0.01, np.array([0,0.1]), 500)"
   ]
  },
  {
   "cell_type": "code",
   "execution_count": 17,
   "id": "b5551ccc",
   "metadata": {},
   "outputs": [
    {
     "data": {
      "text/plain": [
       "-0.8532822149620591"
      ]
     },
     "execution_count": 17,
     "metadata": {},
     "output_type": "execute_result"
    }
   ],
   "source": [
    "cum"
   ]
  },
  {
   "cell_type": "code",
   "execution_count": null,
   "id": "a5b3ad00",
   "metadata": {},
   "outputs": [],
   "source": []
  }
 ],
 "metadata": {
  "kernelspec": {
   "display_name": "gen_env",
   "language": "python",
   "name": "gen_env"
  },
  "language_info": {
   "codemirror_mode": {
    "name": "ipython",
    "version": 3
   },
   "file_extension": ".py",
   "mimetype": "text/x-python",
   "name": "python",
   "nbconvert_exporter": "python",
   "pygments_lexer": "ipython3",
   "version": "3.10.8"
  }
 },
 "nbformat": 4,
 "nbformat_minor": 5
}
