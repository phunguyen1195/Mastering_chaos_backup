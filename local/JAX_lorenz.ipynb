{
 "cells": [
  {
   "cell_type": "code",
   "execution_count": 10,
   "id": "95485cd3",
   "metadata": {},
   "outputs": [],
   "source": [
    "import jax.numpy as jnp\n",
    "from jax import grad, jit, vmap\n",
    "from jax import random\n",
    "from jax import jacfwd, jacrev\n",
    "import numpy as np\n",
    "from numpy.linalg import inv\n",
    "\n",
    "dyn_lorenz = {\"sigma\":10.0, \"R\":28.0, \"b\": 8/3}\n",
    "x0 = np.array([10.0, 1.0, 0.0])\n",
    "v1 = np.array([1.0, 0.0, 0.0])\n",
    "v2 = np.array([0.0, 1.0, 0.0])\n",
    "v3 = np.array([0.0, 0.0, 1.0])\n",
    "x_dot = []\n",
    "x_norm = []\n",
    "# cum = np.array([0,0,0])\n",
    "\n",
    "def lorenz (x0, dyn):\n",
    "    sigma = dyn['sigma']\n",
    "    R = dyn['R']\n",
    "    b = dyn['b']\n",
    "    x = x0[0]\n",
    "    y = x0[1]\n",
    "    z = x0[2]\n",
    "    return np.array([sigma * (y - x), \n",
    "                     x * (R - z) - y, \n",
    "                     x * y - b * z])\n",
    "\n",
    "def linearized_lorenz (x0, dyn, y_lorenz):\n",
    "    sigma = dyn['sigma']\n",
    "    R = dyn['R']\n",
    "    b = dyn['b']\n",
    "    return np.array(jnp.dot(jacfwd(lorenz_jax)(x0,dyn),y_lorenz))\n",
    "\n",
    "\n",
    "def lorenz_jax (x0, dyn):\n",
    "    sigma = dyn['sigma']\n",
    "    R = dyn['R']\n",
    "    b = dyn['b']\n",
    "    x = x0[0]\n",
    "    y = x0[1]\n",
    "    z = x0[2]\n",
    "    return jnp.array([sigma * (y - x), \n",
    "                     x * (R - z) - y, \n",
    "                     x * y - b * z])\n",
    "\n",
    "def RungeKutta (dyn, f, dt, x0):\n",
    "    k1 = f(x0, dyn) #[x,y,z]*0.1 example\n",
    "    k2 = f(x0+0.5*k1*dt,dyn)\n",
    "    k3 = f(x0 + 0.5*k2*dt, dyn)\n",
    "    k4 = f(x0 + k3*dt, dyn)\n",
    "    \n",
    "    x = x0 + ((k1 + 2*k2 + 2*k3 + k4)/6) *dt\n",
    "    return x\n",
    "\n",
    "def RungeKutta_linearized (dyn, f, dt, x0, y):\n",
    "    k1 = f(x0, dyn, y) #[x,y,z]*0.1 example\n",
    "    k2 = f(x0+0.5*k1*dt,dyn, y)\n",
    "    k3 = f(x0 + 0.5*k2*dt, dyn, y)\n",
    "    k4 = f(x0 + k3*dt, dyn, y)\n",
    "    \n",
    "    x = x0 + ((k1 + 2*k2 + 2*k3 + k4)/6) * dt\n",
    "\n",
    "    return x\n",
    "\n",
    "def f_t (dyn, f, linearized_f, dt, x0, T):\n",
    "    x = np.empty(shape=(len(x0),T))\n",
    "    v1_prime = np.empty(shape=(len(x0),T))\n",
    "    v2_prime = np.empty(shape=(len(x0),T))\n",
    "    v3_prime = np.empty(shape=(len(x0),T))\n",
    "    x[:, 0] = x0\n",
    "    v1_prime[:, 0] = v1\n",
    "    v2_prime[:, 0] = v2\n",
    "    v3_prime[:, 0] = v3\n",
    "    cum = np.array([0,0,0])\n",
    "    for i in range(1,T):\n",
    "        x[:, i] = RungeKutta(dyn, f, dt, x[:, i-1])\n",
    "        \n",
    "        v1_prime[:, i] = RungeKutta_linearized(dyn, linearized_f, dt, v1_prime[:, i-1], x[:, i-1])\n",
    "        v2_prime[:, i] = RungeKutta_linearized(dyn, linearized_f, dt, v2_prime[:, i-1], x[:, i-1])\n",
    "        v3_prime[:, i] = RungeKutta_linearized(dyn, linearized_f, dt, v3_prime[:, i-1], x[:, i-1])\n",
    "        \n",
    "        \n",
    "        norm1 = np.linalg.norm(v1_prime[:, i])\n",
    "        v1_prime[:, i] = v1_prime[:, i]/norm1\n",
    "        \n",
    "        GSC1 = np.dot(v1_prime[:, i], v2_prime[:, i])\n",
    "        v2_prime[:, i] = v2_prime[:, i] - GSC1*v1_prime[:, i]\n",
    "        \n",
    "        norm2 = np.linalg.norm(v2_prime[:, i])\n",
    "        v2_prime[:, i] = v2_prime[:, i]/norm2\n",
    "        \n",
    "        GSC2 = np.dot(v3_prime[:, i], v1_prime[:, i])\n",
    "        GSC3 = np.dot(v3_prime[:, i], v2_prime[:, i])\n",
    "        \n",
    "        v3_prime[:, i] = v3_prime[:, i] - GSC2*v1_prime[:, i] - GSC3*v2_prime[:, i]\n",
    "        norm3 = np.linalg.norm(v3_prime[:, i])\n",
    "        v3_prime[:, i] = v3_prime[:, i]/norm3\n",
    "        cum = cum + np.log2(np.array([norm1,norm2,norm3]))\n",
    "#         if ( i % 100 == 0 ):\n",
    "#             print ('log2:', np.log2(np.array([norm1,norm2,norm3]))/(i*dt))\n",
    "#             print ('cum:', cum/(i*dt))\n",
    "        \n",
    "        \n",
    "    return x, cum/(T*dt)"
   ]
  },
  {
   "cell_type": "code",
   "execution_count": 17,
   "id": "b7c490a9",
   "metadata": {},
   "outputs": [],
   "source": [
    "v, cum = f_t(dyn_lorenz, lorenz, linearized_lorenz, 0.01, np.array([  20, 20, 40]), 1000)"
   ]
  },
  {
   "cell_type": "code",
   "execution_count": 16,
   "id": "26557997",
   "metadata": {},
   "outputs": [
    {
     "data": {
      "text/plain": [
       "array([168.61465494,  11.78854845,  -0.8306072 ])"
      ]
     },
     "execution_count": 16,
     "metadata": {},
     "output_type": "execute_result"
    }
   ],
   "source": [
    "cum"
   ]
  },
  {
   "cell_type": "code",
   "execution_count": 18,
   "id": "1f234eba",
   "metadata": {},
   "outputs": [
    {
     "data": {
      "text/plain": [
       "array([160.35156779,  11.49742528,  -1.05189389])"
      ]
     },
     "execution_count": 18,
     "metadata": {},
     "output_type": "execute_result"
    }
   ],
   "source": [
    "cum"
   ]
  },
  {
   "cell_type": "code",
   "execution_count": 13,
   "id": "07ac7f71",
   "metadata": {},
   "outputs": [],
   "source": [
    "def linearized_lorenz (x0, dyn, y_lorenz):\n",
    "    sigma = dyn['sigma']\n",
    "    R = dyn['R']\n",
    "    b = dyn['b']\n",
    "    return np.array(jnp.dot(jacfwd(lorenz_jax)(x0,dyn),y_lorenz))"
   ]
  },
  {
   "cell_type": "code",
   "execution_count": 19,
   "id": "4e226f21",
   "metadata": {},
   "outputs": [
    {
     "data": {
      "text/plain": [
       "array([ 0.        , -0.1       , -0.26666668], dtype=float32)"
      ]
     },
     "execution_count": 19,
     "metadata": {},
     "output_type": "execute_result"
    }
   ],
   "source": [
    "linearized_lorenz(np.array([1.0, 0.0, 0.0]),dyn_lorenz,np.array([  0, 0, 0.1]))"
   ]
  },
  {
   "cell_type": "code",
   "execution_count": null,
   "id": "15851480",
   "metadata": {},
   "outputs": [],
   "source": []
  }
 ],
 "metadata": {
  "kernelspec": {
   "display_name": "gen_env",
   "language": "python",
   "name": "gen_env"
  },
  "language_info": {
   "codemirror_mode": {
    "name": "ipython",
    "version": 3
   },
   "file_extension": ".py",
   "mimetype": "text/x-python",
   "name": "python",
   "nbconvert_exporter": "python",
   "pygments_lexer": "ipython3",
   "version": "3.10.8"
  }
 },
 "nbformat": 4,
 "nbformat_minor": 5
}
