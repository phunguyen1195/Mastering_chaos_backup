{
 "cells": [
  {
   "cell_type": "code",
   "execution_count": 6,
   "id": "c5f550c5",
   "metadata": {},
   "outputs": [
    {
     "name": "stdout",
     "output_type": "stream",
     "text": [
      "[[[ 0.]\n",
      "  [-1.]\n",
      "  [ 2.]\n",
      "  [ 0.]\n",
      "  [ 2.]]\n",
      "\n",
      " [[ 1.]\n",
      "  [-2.]\n",
      "  [-1.]\n",
      "  [-1.]\n",
      "  [ 0.]]\n",
      "\n",
      " [[-1.]\n",
      "  [ 0.]\n",
      "  [-1.]\n",
      "  [ 0.]\n",
      "  [ 1.]]\n",
      "\n",
      " [[ 0.]\n",
      "  [ 0.]\n",
      "  [ 0.]\n",
      "  [-0.]\n",
      "  [ 0.]]]\n"
     ]
    }
   ],
   "source": [
    "import numpy as np\n",
    "from numpy.linalg import inv\n",
    "\n",
    "def _from_basis_to_project_matrix(B):\n",
    "    \"\"\"Formula page 87 book 'Maths For ML' \"\"\"\n",
    "    inv_Bt_B = inv(np.dot(B.T, B))\n",
    "    proj_matrix = np.dot(B, np.dot(inv_Bt_B, B.T))\n",
    "    return proj_matrix\n",
    "\n",
    "def _projec(x, basis):\n",
    "    \"\"\"project `x` in the new vector space defined by `basis` \"\"\"\n",
    "    proj_matrix = _from_basis_to_project_matrix(basis)\n",
    "    proj_x = np.dot(proj_matrix, x)\n",
    "    return proj_x\n",
    "\n",
    "def _get_col(x, col_id):\n",
    "    \"\"\"return column `col_id` from matrix `x` \"\"\"\n",
    "    raw_col_val = x[:, col_id]\n",
    "    col_as_row = np.array([raw_col_val]).T\n",
    "    return col_as_row\n",
    "\n",
    "def gram_schmidt(B):\n",
    "    nb_col = B.shape[1]\n",
    "    first_col=_get_col(B, 0)\n",
    "    \n",
    "    U_vecs = [first_col]\n",
    "    \n",
    "    for i in range(1, nb_col):\n",
    "        B_i = _get_col(B, i)\n",
    "        U_i_1 = np.concatenate(U_vecs, axis=1)\n",
    "        p = _projec(B_i, U_i_1)\n",
    "        U_i = B_i - p\n",
    "        U_vecs.append(U_i)\n",
    "\n",
    "    return U_vecs\n",
    "\n",
    "if __name__ == '__main__':\n",
    "    # B=np.array([[2,1],[0,1]])\n",
    "    # B=np.array([[1,0],[1,1],[1,2]])\n",
    "    B = np.array([[0, 1, -3, -1],\n",
    "                  [-1, -3, 4, -3],\n",
    "                  [2, 1, 1, 5],\n",
    "                  [0, -1, 2, 0],\n",
    "                  [2, 2, 1, 7]\n",
    "                  ])\n",
    "\n",
    "    U = gram_schmidt(B)\n",
    "\n",
    "    print(np.round(U, 2))"
   ]
  },
  {
   "cell_type": "code",
   "execution_count": null,
   "id": "75c357dc",
   "metadata": {},
   "outputs": [],
   "source": []
  }
 ],
 "metadata": {
  "kernelspec": {
   "display_name": "gen_env",
   "language": "python",
   "name": "gen_env"
  },
  "language_info": {
   "codemirror_mode": {
    "name": "ipython",
    "version": 3
   },
   "file_extension": ".py",
   "mimetype": "text/x-python",
   "name": "python",
   "nbconvert_exporter": "python",
   "pygments_lexer": "ipython3",
   "version": "3.10.8"
  }
 },
 "nbformat": 4,
 "nbformat_minor": 5
}
