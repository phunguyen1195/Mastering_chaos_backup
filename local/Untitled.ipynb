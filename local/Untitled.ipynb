{
 "cells": [
  {
   "cell_type": "code",
   "execution_count": 1,
   "id": "db742b32",
   "metadata": {},
   "outputs": [],
   "source": [
    "import numpy as np"
   ]
  },
  {
   "cell_type": "code",
   "execution_count": 19,
   "id": "32fe8b92",
   "metadata": {},
   "outputs": [],
   "source": [
    "a = [[2, 3]]"
   ]
  },
  {
   "cell_type": "code",
   "execution_count": 20,
   "id": "5f194d44",
   "metadata": {},
   "outputs": [],
   "source": [
    "b = [[1]]"
   ]
  },
  {
   "cell_type": "code",
   "execution_count": 21,
   "id": "773267cf",
   "metadata": {},
   "outputs": [
    {
     "ename": "LinAlgError",
     "evalue": "Last 2 dimensions of the array must be square",
     "output_type": "error",
     "traceback": [
      "\u001b[0;31m---------------------------------------------------------------------------\u001b[0m",
      "\u001b[0;31mLinAlgError\u001b[0m                               Traceback (most recent call last)",
      "Cell \u001b[0;32mIn[21], line 1\u001b[0m\n\u001b[0;32m----> 1\u001b[0m x \u001b[38;5;241m=\u001b[39m \u001b[43mnp\u001b[49m\u001b[38;5;241;43m.\u001b[39;49m\u001b[43mlinalg\u001b[49m\u001b[38;5;241;43m.\u001b[39;49m\u001b[43msolve\u001b[49m\u001b[43m(\u001b[49m\u001b[43ma\u001b[49m\u001b[43m,\u001b[49m\u001b[43m \u001b[49m\u001b[43mb\u001b[49m\u001b[43m)\u001b[49m\n",
      "File \u001b[0;32m<__array_function__ internals>:200\u001b[0m, in \u001b[0;36msolve\u001b[0;34m(*args, **kwargs)\u001b[0m\n",
      "File \u001b[0;32m~/Dropbox/general_backup/anaconda3/envs/gen_env/lib/python3.10/site-packages/numpy/linalg/linalg.py:373\u001b[0m, in \u001b[0;36msolve\u001b[0;34m(a, b)\u001b[0m\n\u001b[1;32m    371\u001b[0m a, _ \u001b[38;5;241m=\u001b[39m _makearray(a)\n\u001b[1;32m    372\u001b[0m _assert_stacked_2d(a)\n\u001b[0;32m--> 373\u001b[0m \u001b[43m_assert_stacked_square\u001b[49m\u001b[43m(\u001b[49m\u001b[43ma\u001b[49m\u001b[43m)\u001b[49m\n\u001b[1;32m    374\u001b[0m b, wrap \u001b[38;5;241m=\u001b[39m _makearray(b)\n\u001b[1;32m    375\u001b[0m t, result_t \u001b[38;5;241m=\u001b[39m _commonType(a, b)\n",
      "File \u001b[0;32m~/Dropbox/general_backup/anaconda3/envs/gen_env/lib/python3.10/site-packages/numpy/linalg/linalg.py:190\u001b[0m, in \u001b[0;36m_assert_stacked_square\u001b[0;34m(*arrays)\u001b[0m\n\u001b[1;32m    188\u001b[0m m, n \u001b[38;5;241m=\u001b[39m a\u001b[38;5;241m.\u001b[39mshape[\u001b[38;5;241m-\u001b[39m\u001b[38;5;241m2\u001b[39m:]\n\u001b[1;32m    189\u001b[0m \u001b[38;5;28;01mif\u001b[39;00m m \u001b[38;5;241m!=\u001b[39m n:\n\u001b[0;32m--> 190\u001b[0m     \u001b[38;5;28;01mraise\u001b[39;00m LinAlgError(\u001b[38;5;124m'\u001b[39m\u001b[38;5;124mLast 2 dimensions of the array must be square\u001b[39m\u001b[38;5;124m'\u001b[39m)\n",
      "\u001b[0;31mLinAlgError\u001b[0m: Last 2 dimensions of the array must be square"
     ]
    }
   ],
   "source": [
    "x = np.linalg.solve(a, b)"
   ]
  },
  {
   "cell_type": "code",
   "execution_count": 22,
   "id": "ae3e8869",
   "metadata": {},
   "outputs": [
    {
     "data": {
      "text/plain": [
       "array([[0.5]])"
      ]
     },
     "execution_count": 22,
     "metadata": {},
     "output_type": "execute_result"
    }
   ],
   "source": [
    "x"
   ]
  },
  {
   "cell_type": "code",
   "execution_count": 23,
   "id": "c54cf45d",
   "metadata": {},
   "outputs": [],
   "source": [
    "sigma = 10\n",
    "r = 28\n",
    "b = 8/3"
   ]
  },
  {
   "cell_type": "code",
   "execution_count": 24,
   "id": "7c50422e",
   "metadata": {},
   "outputs": [],
   "source": [
    "C = ((b ** 2) * ((sigma + r) ** 2)) / (4 * (b - 1))"
   ]
  },
  {
   "cell_type": "code",
   "execution_count": 25,
   "id": "6c05f9d3",
   "metadata": {},
   "outputs": [
    {
     "data": {
      "text/plain": [
       "1540.2666666666667"
      ]
     },
     "execution_count": 25,
     "metadata": {},
     "output_type": "execute_result"
    }
   ],
   "source": [
    "C"
   ]
  },
  {
   "cell_type": "code",
   "execution_count": 26,
   "id": "0cbc91e1",
   "metadata": {},
   "outputs": [
    {
     "data": {
      "text/plain": [
       "39.24623124156849"
      ]
     },
     "execution_count": 26,
     "metadata": {},
     "output_type": "execute_result"
    }
   ],
   "source": [
    "np.sqrt(C)"
   ]
  },
  {
   "cell_type": "code",
   "execution_count": 27,
   "id": "4798c947",
   "metadata": {},
   "outputs": [],
   "source": [
    "k = np.array([40,-41,80])"
   ]
  },
  {
   "cell_type": "code",
   "execution_count": 29,
   "id": "2d97b187",
   "metadata": {},
   "outputs": [
    {
     "data": {
      "text/plain": [
       "array([ 40., -40.,  78.])"
      ]
     },
     "execution_count": 29,
     "metadata": {},
     "output_type": "execute_result"
    }
   ],
   "source": [
    "np.clip(k,np.array([-40.0, -40.0, -2.0])\n",
    "        ,np.array([40.0, 40.0, 78.0]) )"
   ]
  },
  {
   "cell_type": "code",
   "execution_count": 30,
   "id": "caf41592",
   "metadata": {},
   "outputs": [],
   "source": [
    "from gym.utils import seeding"
   ]
  },
  {
   "cell_type": "code",
   "execution_count": 152,
   "id": "e000bec2",
   "metadata": {},
   "outputs": [],
   "source": [
    "np_random, seed = seeding.np_random(None)"
   ]
  },
  {
   "cell_type": "code",
   "execution_count": 195,
   "id": "e1352b5b",
   "metadata": {},
   "outputs": [],
   "source": [
    "y3 = np_random.uniform(low=-1, high=77)\n",
    "new_C = C - np.square(y3 - r -sigma)"
   ]
  },
  {
   "cell_type": "code",
   "execution_count": 196,
   "id": "931c7957",
   "metadata": {},
   "outputs": [],
   "source": [
    "y2 = np_random.uniform(low=-np.sqrt(new_C), high=np.sqrt(new_C))"
   ]
  },
  {
   "cell_type": "code",
   "execution_count": 197,
   "id": "d3d59767",
   "metadata": {},
   "outputs": [],
   "source": [
    "y23 = np.square(y2) + np.square(y3 - r -sigma)"
   ]
  },
  {
   "cell_type": "code",
   "execution_count": 198,
   "id": "6d25a2e4",
   "metadata": {},
   "outputs": [],
   "source": [
    "y1 = np.sqrt(C - y23)"
   ]
  },
  {
   "cell_type": "code",
   "execution_count": 199,
   "id": "011688a4",
   "metadata": {},
   "outputs": [
    {
     "name": "stdout",
     "output_type": "stream",
     "text": [
      "8.28879261052298 31.238376294768152 60.26491478072336\n"
     ]
    }
   ],
   "source": [
    "print (y1, y2, y3)"
   ]
  },
  {
   "cell_type": "code",
   "execution_count": 200,
   "id": "d93fc1f0",
   "metadata": {},
   "outputs": [
    {
     "data": {
      "text/plain": [
       "1540.2666666666667"
      ]
     },
     "execution_count": 200,
     "metadata": {},
     "output_type": "execute_result"
    }
   ],
   "source": [
    "np.square(y1) + np.square(y2) + np.square(y3 - r - sigma)"
   ]
  },
  {
   "cell_type": "code",
   "execution_count": null,
   "id": "2ff8301c",
   "metadata": {},
   "outputs": [],
   "source": []
  }
 ],
 "metadata": {
  "kernelspec": {
   "display_name": "gen_env",
   "language": "python",
   "name": "gen_env"
  },
  "language_info": {
   "codemirror_mode": {
    "name": "ipython",
    "version": 3
   },
   "file_extension": ".py",
   "mimetype": "text/x-python",
   "name": "python",
   "nbconvert_exporter": "python",
   "pygments_lexer": "ipython3",
   "version": "3.10.8"
  }
 },
 "nbformat": 4,
 "nbformat_minor": 5
}
