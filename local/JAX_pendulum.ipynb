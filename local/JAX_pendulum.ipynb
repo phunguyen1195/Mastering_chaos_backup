{
 "cells": [
  {
   "cell_type": "code",
   "execution_count": 90,
   "id": "95485cd3",
   "metadata": {},
   "outputs": [],
   "source": [
    "import jax.numpy as jnp\n",
    "from jax import grad, jit, vmap\n",
    "from jax import random\n",
    "from jax import jacfwd, jacrev\n",
    "import numpy as np\n",
    "from numpy.linalg import inv\n",
    "\n",
    "dyn_pendulum = {\"g\":9.81, \"m\": 1.0, \"l\": 1.0}\n",
    "x0 = np.array([0.1, 0.0])\n",
    "v1 = np.array([1.0, 0.0])\n",
    "v2 = np.array([0.0, 1.0])\n",
    "x_dot = []\n",
    "x_norm = []\n",
    "\n",
    "def simple_pendulum (x0, dyn):\n",
    "    g = dyn['g'] \n",
    "    l = dyn['l']\n",
    "    #print (x0)\n",
    "    \n",
    "    return np.array([x0[1], (-g/l)*np.sin(x0[0])])\n",
    "\n",
    "def simple_pendulum_jax (x0, dyn):\n",
    "    g = dyn['g'] \n",
    "    l = dyn['l']\n",
    "    return jnp.array([x0[1], (-g/l)*jnp.sin(x0[0])])\n",
    "\n",
    "def linearized_simple_pendulum (x0, dyn, y_pendulum):\n",
    "    g = dyn['g'] \n",
    "    l = dyn['l']\n",
    "    #print (x0)\n",
    "    return np.array(jnp.dot(jacfwd(simple_pendulum_jax)(x0,dyn),y_pendulum))\n",
    "\n",
    "# def linearized_simple_pendulum (x0, dyn, y_pendulum):\n",
    "#     g = dyn['g'] \n",
    "#     l = dyn['l']\n",
    "#     #print (x0)\n",
    "#     return np.array([0*x0[0] + (-g/l)*np.cos(y_pendulum[0])*x0[1],\n",
    "#                      1*x0[0] + 0*x0[1]])\n",
    "\n",
    "# def RungeKutta_for_collect_trajectory (dyn, f, dt, x0):\n",
    "#     k1 = f(x0, dyn) #[x,y,z]*0.1 example\n",
    "#     k2 = f(x0+0.5*k1*dt,dyn)\n",
    "#     k3 = f(x0 + 0.5*k2*dt, dyn)\n",
    "#     k4 = f(x0 + k3*dt, dyn)\n",
    "    \n",
    "#     x = x0 + ((k1 + 2*k2 + 2*k3 + k4)/6) *dt\n",
    "#     x_norm.append(x0)\n",
    "#     x_dot.append(k4)\n",
    "#     return x\n",
    "\n",
    "def RungeKutta (dyn, f, dt, x0):\n",
    "    k1 = f(x0, dyn) #[x,y,z]*0.1 example\n",
    "    k2 = f(x0+0.5*k1*dt,dyn)\n",
    "    k3 = f(x0 + 0.5*k2*dt, dyn)\n",
    "    k4 = f(x0 + k3*dt, dyn)\n",
    "    \n",
    "    x = x0 + ((k1 + 2*k2 + 2*k3 + k4)/6) *dt\n",
    "    return x\n",
    "\n",
    "def RungeKutta_linearized (dyn, f, dt, x0, y):\n",
    "    k1 = f(x0, dyn, y) #[x,y,z]*0.1 example\n",
    "    k2 = f(x0+0.5*k1*dt,dyn, y)\n",
    "    k3 = f(x0 + 0.5*k2*dt, dyn, y)\n",
    "    k4 = f(x0 + k3*dt, dyn, y)\n",
    "    \n",
    "    x = x0 + ((k1 + 2*k2 + 2*k3 + k4)/6) * dt\n",
    "\n",
    "    return x\n",
    "\n",
    "def f_t (dyn, f, linearized_f, dt, x0, T):\n",
    "    x = np.empty(shape=(len(x0),T))\n",
    "    v1_prime = np.empty(shape=(len(x0),T))\n",
    "    v2_prime = np.empty(shape=(len(x0),T))\n",
    "    x[:, 0] = x0\n",
    "    v1_prime[:, 0] = v1\n",
    "    v2_prime[:, 0] = v2\n",
    "    cum = np.array([0,0])\n",
    "    \n",
    "    for i in range(1,T):\n",
    "        x[:, i] = RungeKutta(dyn, f, dt, x[:, i-1])\n",
    "        \n",
    "        v1_prime[:, i] = RungeKutta_linearized(dyn, linearized_f, dt, v1_prime[:, i-1], x[:, i-1])\n",
    "        v2_prime[:, i] = RungeKutta_linearized(dyn, linearized_f, dt, v2_prime[:, i-1], x[:, i-1])\n",
    "        \n",
    "#         v_prime = np.array([v1_prime[:, i],v2_prime[:, i]])\n",
    "        \n",
    "#         v_prime_new = gram_schmidt(v_prime)\n",
    "#         norm = np.linalg.norm(v_prime_new)\n",
    "        norm1 = np.linalg.norm(v1_prime[:, i])\n",
    "        v1_prime[:, i] = v1_prime[:, i]/norm1\n",
    "        \n",
    "        GSC1 = np.dot(v1_prime[:, i], v2_prime[:, i])\n",
    "        v2_prime[:, i] = v2_prime[:, i] - GSC1*v1_prime[:, i]\n",
    "        \n",
    "        norm2 = np.linalg.norm(v2_prime[:, i])\n",
    "        v2_prime[:, i] = v2_prime[:, i]/norm2\n",
    "        \n",
    "\n",
    "        cum = cum + np.log2(np.array([norm1,norm2]))\n",
    "#         print(\"total time taken this loop: \", end_time - start_time)\n",
    "        \n",
    "    return x, cum/(T*dt)"
   ]
  },
  {
   "cell_type": "code",
   "execution_count": 91,
   "id": "b7c490a9",
   "metadata": {},
   "outputs": [],
   "source": [
    "_, cum = f_t(dyn_pendulum, simple_pendulum, linearized_simple_pendulum, 0.001, np.array([0,0.1]), 500)"
   ]
  },
  {
   "cell_type": "code",
   "execution_count": 92,
   "id": "26557997",
   "metadata": {},
   "outputs": [
    {
     "data": {
      "text/plain": [
       "array([ 0.09635589, -0.28452818])"
      ]
     },
     "execution_count": 92,
     "metadata": {},
     "output_type": "execute_result"
    }
   ],
   "source": [
    "cum"
   ]
  },
  {
   "cell_type": "code",
   "execution_count": null,
   "id": "07ac7f71",
   "metadata": {},
   "outputs": [],
   "source": []
  }
 ],
 "metadata": {
  "kernelspec": {
   "display_name": "gen_env",
   "language": "python",
   "name": "gen_env"
  },
  "language_info": {
   "codemirror_mode": {
    "name": "ipython",
    "version": 3
   },
   "file_extension": ".py",
   "mimetype": "text/x-python",
   "name": "python",
   "nbconvert_exporter": "python",
   "pygments_lexer": "ipython3",
   "version": "3.10.8"
  }
 },
 "nbformat": 4,
 "nbformat_minor": 5
}
